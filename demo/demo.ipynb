{
 "cells": [
  {
   "cell_type": "markdown",
   "metadata": {},
   "source": [
    "#  [**Just Relax It**](https://github.com/intsystems/discrete-variables-relaxation) Demo Сode"
   ]
  },
  {
   "cell_type": "markdown",
   "metadata": {},
   "source": [
    "In this notebook, we demonstrate how the methods from the **Just Relax It** library work.\n",
    "\n",
    "> Before you start experimenting with the library, you need to install all the necessary dependencies, follow the instruction in the `README.md`.\n",
    "\n",
    "In the **Just Relax It** library, the implemented distributions have a similar structure, so we chose one distribution for demonstration and conducted a number of experiments with it. [**Correlated Relaxed Bernoulli**](https://openreview.net/pdf?id=oDFvtxzPOx) was chosen as a demonstration method.\n",
    "This method generates correlated gate vectors from a multivariate Bernoulli distribution using a Gaussian copula:\n",
    "$$C_R(U_1, \\ldots, U_p) = \\Phi_R(\\Phi^{-1}(U_1), \\ldots, \\Phi^{-1}(U_p)),\n",
    "$$\n",
    "where $\\Phi_R$ is the joint CDF of a multivariate Gaussian distribution with correlation matrix $R$, and $\\Phi^{-1}$ is the inverse CDF of the standard univariate Gaussian distribution.\n",
    "The gate vector $m$ is generated as:\n",
    "$$m_k =\n",
    "\\begin{cases}\n",
    "1 & \\text{if } U_k \\leq \\pi_k \\\\0 & \\text{if } U_k > \\pi_k\n",
    "\\end{cases}\\quad k = 1, \\ldots, p,\n",
    "$$\n",
    "where $U_k$ are correlated random variables preserving the input feature correlations.\n",
    "For differentiability, a continuous relaxation is applied:\n",
    "$$m_k = \\sigma \\left( \\frac{1}{\\tau} \\left( \\log \\frac{U_k}{1 - U_k} + \\log \\frac{\\pi_k}{1 - \\pi_k} \\right) \\right),\n",
    "$$\n",
    "where $\\sigma(x) = \\frac{1}{1 + \\exp(-x)}$ is the sigmoid function, and $\\tau$ is a temperature hyperparameter.\n",
    "\n",
    "The theory of other methods from **Just Relax It** library can be viewed in the [blog-post](https://github.com/intsystems/discrete-variables-relaxation/blob/main/assets/blog-post.pdf)."
   ]
  },
  {
   "cell_type": "markdown",
   "metadata": {},
   "source": [
    "## Importing libraries"
   ]
  },
  {
   "cell_type": "code",
   "execution_count": 3,
   "metadata": {},
   "outputs": [
    {
     "name": "stdout",
     "output_type": "stream",
     "text": [
      "The autoreload extension is already loaded. To reload it, use:\n",
      "  %reload_ext autoreload\n"
     ]
    }
   ],
   "source": [
    "import pyro.distributions as dist\n",
    "from PIL import Image\n",
    "import pyro\n",
    "import torch\n",
    "import numpy as np\n",
    "import matplotlib.pyplot as plt\n",
    "import sys\n",
    "import os\n",
    "\n",
    "current_dir = os.getcwd()\n",
    "sys.path.append(os.path.abspath(os.path.join(current_dir, \"..\", \"src\")))\n",
    "from relaxit.distributions import CorrelatedRelaxedBernoulli\n",
    "\n",
    "%load_ext autoreload\n",
    "%autoreload 2"
   ]
  },
  {
   "cell_type": "markdown",
   "metadata": {},
   "source": [
    "## Simplest Examples\n",
    "### Initializing distribution **Correlated Relaxed Bernoulli**\n",
    "\n",
    "Let's define the parameters $\\pi$, $R$, and $\\tau$ for the demonstration:\n",
    "\n",
    "- Tensor $\\pi$, representing the probabilities of the Bernoulli distribution, with an event shape of 3 and a batch size of 2.\n",
    "   $$\n",
    "   \\pi = \\begin{bmatrix}\n",
    "   0.2 & 0.4 & 0.4 \\\\\n",
    "   0.3 & 0.5 & 0.2\n",
    "   \\end{bmatrix}\n",
    "   $$\n",
    "\n",
    "- Correlation matrix $R$ for the Gaussian copula.\n",
    "   $$\n",
    "   R = \\begin{bmatrix}\n",
    "   1.0 & 0.5 & 0.3 \\\\\n",
    "   0.5 & 1.0 & 0.7 \\\\\n",
    "   0.3 & 0.7 & 1.0\n",
    "   \\end{bmatrix}\n",
    "   $$\n",
    "\n",
    "- Temperature hyperparameter $\\tau$.\n",
    "   $$\n",
    "   \\tau = 0.1\n",
    "   $$"
   ]
  },
  {
   "cell_type": "code",
   "execution_count": 20,
   "metadata": {},
   "outputs": [
    {
     "name": "stdout",
     "output_type": "stream",
     "text": [
      "Sampled gate vector:\n",
      " tensor([[1.0000e+00, 9.8642e-01, 5.6586e-12],\n",
      "        [6.7509e-01, 2.3547e-05, 2.5322e-18]])\n"
     ]
    }
   ],
   "source": [
    "torch.manual_seed(0)\n",
    "\n",
    "# Define the parameters\n",
    "pi = torch.tensor([[0.2, 0.4, 0.4], [0.3, 0.5, 0.2]])\n",
    "R = torch.tensor([[1.0, 0.5, 0.3], [0.5, 1.0, 0.7], [0.3, 0.7, 1.0]])\n",
    "tau = torch.tensor(0.1)\n",
    "\n",
    "# Create an instance of the CorrelatedRelaxedBernoulli distribution\n",
    "MyCorrelatedRelaxedBernoulli = CorrelatedRelaxedBernoulli(pi=pi, R=R, tau=tau)\n",
    "\n",
    "# Example usage\n",
    "sample = MyCorrelatedRelaxedBernoulli.rsample()\n",
    "print(\"Sampled gate vector:\\n\", sample)"
   ]
  },
  {
   "cell_type": "markdown",
   "metadata": {},
   "source": []
  }
 ],
 "metadata": {
  "kernelspec": {
   "display_name": "nkiselev_relaxit",
   "language": "python",
   "name": "python3"
  },
  "language_info": {
   "codemirror_mode": {
    "name": "ipython",
    "version": 3
   },
   "file_extension": ".py",
   "mimetype": "text/x-python",
   "name": "python",
   "nbconvert_exporter": "python",
   "pygments_lexer": "ipython3",
   "version": "3.10.15"
  }
 },
 "nbformat": 4,
 "nbformat_minor": 2
}
