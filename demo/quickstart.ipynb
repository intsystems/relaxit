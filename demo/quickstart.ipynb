{
 "cells": [
  {
   "cell_type": "markdown",
   "metadata": {},
   "source": [
    "# Quickstart into \"Just Relax It\""
   ]
  },
  {
   "cell_type": "code",
   "execution_count": null,
   "metadata": {},
   "outputs": [],
   "source": [
    "import torch\n",
    "from relaxit.distributions import InvertibleGaussian\n",
    "\n",
    "# initialize distribution parameters\n",
    "loc = torch.zeros(3, 4, 5, requires_grad=True)\n",
    "scale = torch.ones(3, 4, 5, requires_grad=True)\n",
    "temperature = torch.tensor([1e-0])\n",
    "\n",
    "# initialize distribution\n",
    "distribution = InvertibleGaussian(loc, scale, temperature)\n",
    "\n",
    "# sample with reparameterization\n",
    "sample = distribution.rsample()\n",
    "print('sample.shape:', sample.shape)\n",
    "print('sample.requires_grad:', sample.requires_grad)"
   ]
  }
 ],
 "metadata": {
  "kernelspec": {
   "display_name": "nkiselev_relaxit",
   "language": "python",
   "name": "python3"
  },
  "language_info": {
   "codemirror_mode": {
    "name": "ipython",
    "version": 3
   },
   "file_extension": ".py",
   "mimetype": "text/x-python",
   "name": "python",
   "nbconvert_exporter": "python",
   "pygments_lexer": "ipython3",
   "version": "3.10.15"
  }
 },
 "nbformat": 4,
 "nbformat_minor": 2
}
