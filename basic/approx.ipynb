{
 "cells": [
  {
   "cell_type": "code",
   "execution_count": null,
   "metadata": {},
   "outputs": [],
   "source": [
    "# The Laplace Bridge\n",
    "# https://arxiv.org/pdf/2003.01227"
   ]
  },
  {
   "cell_type": "code",
   "execution_count": null,
   "metadata": {},
   "outputs": [],
   "source": [
    "import torch\n",
    "import sys\n",
    "sys.path.append('../src')\n",
    "from relaxit.distributions.LogisticNormalSoftmax import LogisticNormalSoftmax\n",
    "from relaxit.distributions.approx import lognorm_approximation_fn, dirichlet_approximation_fn\n",
    "from pyro.distributions import Dirichlet"
   ]
  },
  {
   "cell_type": "code",
   "execution_count": null,
   "metadata": {},
   "outputs": [],
   "source": [
    "import numpy as np\n",
    "import matplotlib.pyplot as plt\n",
    "import matplotlib.tri as tri\n",
    "import torch\n",
    "\n",
    "# Define the corners of the triangle\n",
    "CORNERS = np.array([[0, 0], [1, 0], [0.5, 0.75**0.5]])\n",
    "\n",
    "# Create the initial triangulation\n",
    "TRIANGLE = tri.Triangulation(CORNERS[:, 0], CORNERS[:, 1])\n",
    "\n",
    "# Compute midpoints of the triangle sides\n",
    "MIDPOINTS = [(CORNERS[(i + 1) % 3] + CORNERS[(i + 2) % 3]) / 2.0 for i in range(3)]\n",
    "\n",
    "def xy2bc(xy, tol=1.e-3):\n",
    "    \"\"\"Converts 2D Cartesian coordinates to barycentric.\"\"\"\n",
    "    s = [(CORNERS[i] - MIDPOINTS[i]).dot(xy - MIDPOINTS[i]) / 0.75 for i in range(3)]\n",
    "    return np.clip(s, tol, 1.0 - tol)\n",
    "\n",
    "def argmin_norm(sample, positions):\n",
    "    \"\"\"Finds the index of the closest point in positions to sample.\"\"\"\n",
    "    return np.argmin(np.sum(np.square(sample - positions), axis=1))\n",
    "\n",
    "def refine_triangulation(subdiv=5):\n",
    "    \"\"\"Refines the triangulation and returns the refined mesh.\"\"\"\n",
    "    refiner = tri.UniformTriRefiner(TRIANGLE)\n",
    "    return refiner.refine_triangulation(subdiv=subdiv)\n",
    "\n",
    "def plot_contours(trimesh, pvals, nlevels=200, **kwargs):\n",
    "    \"\"\"Plots the contours of the probability values on the triangulated mesh.\"\"\"\n",
    "    plt.tricontourf(trimesh, pvals, nlevels, **kwargs)\n",
    "    plt.axis('equal')\n",
    "    plt.xlim(0, 1)\n",
    "    plt.ylim(0, 0.75**0.5)\n",
    "    plt.axis('off')\n",
    "    plt.show()\n",
    "\n",
    "def sample_and_plot(distribution, nlevels=200, subdiv=5, num_samples=100000, **kwargs):\n",
    "    \"\"\"Samples from a given distribution and plots the contours.\"\"\"\n",
    "    trimesh = refine_triangulation(subdiv)\n",
    "    xys = np.array([xy2bc(xy) for xy in zip(trimesh.x, trimesh.y)])\n",
    "    samples = distribution.sample((num_samples,))\n",
    "    counts = np.zeros(len(xys))\n",
    "    for x in samples:\n",
    "        counts[argmin_norm(x.numpy(), xys)] += 1\n",
    "\n",
    "    pvals = counts / num_samples\n",
    "    plot_contours(trimesh, pvals, nlevels, **kwargs)"
   ]
  },
  {
   "cell_type": "markdown",
   "metadata": {},
   "source": [
    "Here we visualize the approximation in both sides:\n",
    "- Dirichlet to LogisticNormal\n",
    "- LogisticNormal to Dirichlet"
   ]
  },
  {
   "cell_type": "code",
   "execution_count": null,
   "metadata": {},
   "outputs": [],
   "source": [
    "# Generate a random concentration parameter\n",
    "concentration = torch.randint(1, 10, (3,), dtype=torch.float)\n",
    "\n",
    "# Create the Dirichlet distribution\n",
    "dirichlet_distribution = Dirichlet(concentration)\n",
    "\n",
    "# Approximate the Dirichlet distribution with a LogisticNormal distribution\n",
    "lognorm_approximation = lognorm_approximation_fn(dirichlet_distribution)\n",
    "loc = lognorm_approximation.loc\n",
    "scale = lognorm_approximation.scale\n",
    "\n",
    "# Approximate the LogisticNormal distribution with a Dirichlet distribution\n",
    "dirichlet_approximation = dirichlet_approximation_fn(lognorm_approximation)\n",
    "concentration_approx = dirichlet_approximation.concentration\n",
    "\n",
    "# Assert that the original and approximated concentration parameters are close\n",
    "assert torch.allclose(concentration, concentration_approx)\n",
    "\n",
    "# Sample and plot from the distributions\n",
    "sample_and_plot(dirichlet_distribution)\n",
    "sample_and_plot(lognorm_approximation)\n",
    "sample_and_plot(dirichlet_approximation)"
   ]
  }
 ],
 "metadata": {
  "kernelspec": {
   "display_name": "nkiselev_relaxit",
   "language": "python",
   "name": "python3"
  },
  "language_info": {
   "codemirror_mode": {
    "name": "ipython",
    "version": 3
   },
   "file_extension": ".py",
   "mimetype": "text/x-python",
   "name": "python",
   "nbconvert_exporter": "python",
   "pygments_lexer": "ipython3",
   "version": "3.10.15"
  }
 },
 "nbformat": 4,
 "nbformat_minor": 2
}
