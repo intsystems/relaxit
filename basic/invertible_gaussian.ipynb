{
 "cells": [
  {
   "cell_type": "code",
   "execution_count": 2,
   "metadata": {},
   "outputs": [],
   "source": [
    "import torch\n",
    "import sys\n",
    "sys.path.append('../src')\n",
    "from relaxit.distributions.InvertibleGaussian import InvertibleGaussian\n",
    "from relaxit.distributions.kl import kl_divergence"
   ]
  },
  {
   "cell_type": "markdown",
   "metadata": {},
   "source": [
    "1. Testing reparameterized sampling from the InvertibleGaussian distribution"
   ]
  },
  {
   "cell_type": "code",
   "execution_count": 5,
   "metadata": {},
   "outputs": [],
   "source": [
    "loc = torch.zeros(3, 4, 5, requires_grad=True)\n",
    "scale = torch.ones(3, 4, 5, requires_grad=True)\n",
    "temperature = torch.tensor([1e-0])\n",
    "\n",
    "distribution = InvertibleGaussian(loc, scale, temperature)\n",
    "sample = distribution.rsample()\n",
    "\n",
    "assert sample.shape == torch.Size([3, 4, 6])\n",
    "assert sample.requires_grad == True"
   ]
  },
  {
   "cell_type": "markdown",
   "metadata": {},
   "source": [
    "2. Testing KL-divergence between two IntertibleGaussian distributions"
   ]
  },
  {
   "cell_type": "code",
   "execution_count": 11,
   "metadata": {},
   "outputs": [],
   "source": [
    "loc_1 = torch.zeros(3, 4, 5, requires_grad=True)\n",
    "scale_1 = torch.ones(3, 4, 5, requires_grad=True)\n",
    "temperature_1 = torch.tensor([1e-0])\n",
    "\n",
    "dist_1 = InvertibleGaussian(loc_1, scale_1, temperature_1)\n",
    "\n",
    "loc_2 = torch.ones(3, 4, 5, requires_grad=True) # ones, not zeros\n",
    "scale_2 = torch.ones(3, 4, 5, requires_grad=True)\n",
    "temperature_2 = torch.tensor([1e-2])\n",
    "\n",
    "dist_2 = InvertibleGaussian(loc_2, scale_2, temperature_2)\n",
    "\n",
    "div = kl_divergence(dist_1, dist_2)\n",
    "\n",
    "assert div.shape == torch.Size([3, 4, 5])\n",
    "assert div.requires_grad == True\n",
    "assert not torch.allclose(div, torch.zeros_like(div))"
   ]
  }
 ],
 "metadata": {
  "kernelspec": {
   "display_name": "nkiselev_relaxit",
   "language": "python",
   "name": "python3"
  },
  "language_info": {
   "codemirror_mode": {
    "name": "ipython",
    "version": 3
   },
   "file_extension": ".py",
   "mimetype": "text/x-python",
   "name": "python",
   "nbconvert_exporter": "python",
   "pygments_lexer": "ipython3",
   "version": "3.10.15"
  }
 },
 "nbformat": 4,
 "nbformat_minor": 2
}
