{
 "cells": [
  {
   "cell_type": "code",
   "execution_count": 4,
   "metadata": {},
   "outputs": [],
   "source": [
    "import torch\n",
    "import sys\n",
    "import os\n",
    "\n",
    "current_dir = os.getcwd()\n",
    "sys.path.append(os.path.abspath(os.path.join(current_dir, '..', 'src')))\n",
    "from relaxit.distributions import GaussianRelaxedBernoulli"
   ]
  },
  {
   "cell_type": "code",
   "execution_count": 10,
   "metadata": {},
   "outputs": [],
   "source": [
    "# seed = 42\n",
    "# torch.manual_seed(seed)"
   ]
  },
  {
   "cell_type": "markdown",
   "metadata": {},
   "source": [
    "### Initializing distribution from the relaxit library"
   ]
  },
  {
   "cell_type": "code",
   "execution_count": 6,
   "metadata": {},
   "outputs": [],
   "source": [
    "MyBernoulli = GaussianRelaxedBernoulli(loc = torch.tensor([1.0, 1.5, 5.0]), scale = torch.tensor([2.0]))"
   ]
  },
  {
   "cell_type": "markdown",
   "metadata": {},
   "source": [
    "### Let's sample from our distribution with a reparameterization trick"
   ]
  },
  {
   "cell_type": "code",
   "execution_count": 9,
   "metadata": {},
   "outputs": [
    {
     "name": "stdout",
     "output_type": "stream",
     "text": [
      "tensor([[1., 1., 1.],\n",
      "        [1., 1., 1.],\n",
      "        [1., 1., 1.],\n",
      "        [0., 0., 1.],\n",
      "        [0., 0., 1.]]) \n",
      "\n",
      "arg_constraints = {'loc': Real(), 'scale': GreaterThan(lower_bound=0.0)}\n",
      "\n",
      "batch_shape = torch.Size([3]), event_shape = torch.Size([])\n"
     ]
    }
   ],
   "source": [
    "print(MyBernoulli.rsample(torch.tensor([5])), '\\n')\n",
    "print(f\"arg_constraints = {MyBernoulli.arg_constraints}\\n\")\n",
    "print(f\"batch_shape = {MyBernoulli.batch_shape}, event_shape = {MyBernoulli.event_shape}\")"
   ]
  },
  {
   "cell_type": "code",
   "execution_count": null,
   "metadata": {},
   "outputs": [],
   "source": []
  }
 ],
 "metadata": {
  "kernelspec": {
   "display_name": "nkiselev_relaxit",
   "language": "python",
   "name": "python3"
  },
  "language_info": {
   "codemirror_mode": {
    "name": "ipython",
    "version": 3
   },
   "file_extension": ".py",
   "mimetype": "text/x-python",
   "name": "python",
   "nbconvert_exporter": "python",
   "pygments_lexer": "ipython3",
   "version": "3.10.15"
  }
 },
 "nbformat": 4,
 "nbformat_minor": 2
}
